{
 "cells": [
  {
   "cell_type": "markdown",
   "id": "9dff956f",
   "metadata": {},
   "source": [
    "# Importing Required Libraries"
   ]
  },
  {
   "cell_type": "code",
   "execution_count": 1,
   "id": "deb092ab",
   "metadata": {},
   "outputs": [],
   "source": [
    "import pandas as pd\n",
    "import matplotlib.pyplot as plt\n",
    "import numpy as np\n",
    "import sklearn\n",
    "import seaborn as sns"
   ]
  },
  {
   "cell_type": "code",
   "execution_count": 2,
   "id": "3ff98425",
   "metadata": {},
   "outputs": [],
   "source": [
    "import nltk\n",
    "import re\n",
    "import string\n",
    "from string import digits\n",
    "from nltk.tokenize import word_tokenize\n",
    "from nltk.stem import WordNetLemmatizer, PorterStemmer\n",
    "\n",
    "from sklearn.decomposition import NMF\n",
    "from sklearn.metrics import accuracy_score\n",
    "from sklearn.metrics import confusion_matrix\n",
    "from sklearn.model_selection import train_test_split, GridSearchCV\n",
    "from sklearn.naive_bayes import MultinomialNB\n",
    "from sklearn.ensemble import RandomForestClassifier\n",
    "from sklearn.pipeline import make_pipeline\n",
    "from matplotlib.pyplot import figure\n"
   ]
  },
  {
   "cell_type": "code",
   "execution_count": 3,
   "id": "9a96583a",
   "metadata": {},
   "outputs": [],
   "source": [
    "from sklearn.feature_extraction.text import CountVectorizer , TfidfTransformer , TfidfVectorizer"
   ]
  },
  {
   "cell_type": "code",
   "execution_count": 4,
   "id": "f2578bfe",
   "metadata": {},
   "outputs": [],
   "source": [
    "from sklearn.utils._testing import ignore_warnings\n",
    "from sklearn.exceptions import ConvergenceWarning\n"
   ]
  },
  {
   "cell_type": "code",
   "execution_count": 43,
   "id": "fe3a866a",
   "metadata": {},
   "outputs": [
    {
     "name": "stderr",
     "output_type": "stream",
     "text": [
      "[nltk_data] Downloading package wordnet to\n",
      "[nltk_data]     C:\\Users\\muham\\AppData\\Roaming\\nltk_data...\n",
      "[nltk_data]   Package wordnet is already up-to-date!\n"
     ]
    },
    {
     "data": {
      "text/plain": [
       "True"
      ]
     },
     "execution_count": 43,
     "metadata": {},
     "output_type": "execute_result"
    }
   ],
   "source": [
    "nltk.download('wordnet')"
   ]
  },
  {
   "cell_type": "markdown",
   "id": "e51d9c57",
   "metadata": {},
   "source": [
    "# About the Dataset and Project Objective"
   ]
  },
  {
   "cell_type": "markdown",
   "id": "866c4584",
   "metadata": {},
   "source": [
    "The data has been taken from UCI repository and is regarding the use of a drug type for some medical condition alongwith the reviews and ratings from the user. The data was collected from various pharmaceutical company websites. There are 2 files which had been compiled for analysis as train and test data. The data percentages of train and test was set to 75% and 25% respectively.\n",
    "\n",
    "The objective of the project is whether we can predict the rating a user is likely going to give depending on the review submitted. This is essentially a classification problem which would be adressed by using unsupervised machine learning approach. A comparison would also be done against some machine learning models to access the effectiveness of the unsupervised model vs supervised model. The target variable is rating with the possible ratings between '1' and '10'.\n",
    "\n",
    "The reason for taking this project is to practically deploy whatever has been learnt in this course to augment the concepts and approaches to different kind of problems. Additionally, augmenting NLP would also be great in identifying the sentiment of a review which in turn would determine the final rating given by a user/patient/carer. \n",
    "\n",
    "**Citation** Felix Gräßer, Surya Kallumadi, Hagen Malberg, and Sebastian Zaunseder. 2018. Aspect-Based Sentiment Analysis of Drug Reviews Applying Cross-Domain and Cross-Data Learning."
   ]
  },
  {
   "cell_type": "markdown",
   "id": "aa4be470",
   "metadata": {},
   "source": [
    "# Sequence of Work"
   ]
  },
  {
   "cell_type": "markdown",
   "id": "3a50ec51",
   "metadata": {},
   "source": [
    "The project will be carried out in the following sequence:\n",
    "\n",
    "1. Data Import\n",
    "2. Data Overview\n",
    "3. Data Cleaning\n",
    "4. EDA\n",
    "5. Models Design\n",
    "6. Models Testing\n",
    "7. Model Optimization\n",
    "8. Results and Analysis\n",
    "9. Conclusion"
   ]
  },
  {
   "cell_type": "markdown",
   "id": "13e3e2e3",
   "metadata": {},
   "source": [
    "# 1. Importing Data"
   ]
  },
  {
   "cell_type": "code",
   "execution_count": 87,
   "id": "3be74f16",
   "metadata": {},
   "outputs": [],
   "source": [
    "df_train=pd.read_csv('drugsComTrain_raw.tsv',sep='\\t')\n",
    "df_test=pd.read_csv('drugsComTest_raw.tsv',sep='\\t')"
   ]
  },
  {
   "cell_type": "markdown",
   "id": "6c4d7e5f",
   "metadata": {},
   "source": [
    "# 2. Data Overview"
   ]
  },
  {
   "cell_type": "code",
   "execution_count": 7,
   "id": "8f6c9043",
   "metadata": {},
   "outputs": [
    {
     "name": "stdout",
     "output_type": "stream",
     "text": [
      "<class 'pandas.core.frame.DataFrame'>\n",
      "RangeIndex: 161297 entries, 0 to 161296\n",
      "Data columns (total 7 columns):\n",
      " #   Column       Non-Null Count   Dtype  \n",
      "---  ------       --------------   -----  \n",
      " 0   Unnamed: 0   161297 non-null  int64  \n",
      " 1   drugName     161297 non-null  object \n",
      " 2   condition    160398 non-null  object \n",
      " 3   review       161297 non-null  object \n",
      " 4   rating       161297 non-null  float64\n",
      " 5   date         161297 non-null  object \n",
      " 6   usefulCount  161297 non-null  int64  \n",
      "dtypes: float64(1), int64(2), object(4)\n",
      "memory usage: 8.6+ MB\n"
     ]
    }
   ],
   "source": [
    "df_train.info()"
   ]
  },
  {
   "cell_type": "code",
   "execution_count": 8,
   "id": "d412523c",
   "metadata": {},
   "outputs": [
    {
     "name": "stdout",
     "output_type": "stream",
     "text": [
      "<class 'pandas.core.frame.DataFrame'>\n",
      "RangeIndex: 53766 entries, 0 to 53765\n",
      "Data columns (total 7 columns):\n",
      " #   Column       Non-Null Count  Dtype  \n",
      "---  ------       --------------  -----  \n",
      " 0   Unnamed: 0   53766 non-null  int64  \n",
      " 1   drugName     53766 non-null  object \n",
      " 2   condition    53471 non-null  object \n",
      " 3   review       53766 non-null  object \n",
      " 4   rating       53766 non-null  float64\n",
      " 5   date         53766 non-null  object \n",
      " 6   usefulCount  53766 non-null  int64  \n",
      "dtypes: float64(1), int64(2), object(4)\n",
      "memory usage: 2.9+ MB\n"
     ]
    }
   ],
   "source": [
    "df_test.info()"
   ]
  },
  {
   "cell_type": "markdown",
   "id": "5656bd58",
   "metadata": {},
   "source": [
    "**1.** The **training dataset has 161297 observations against 7 features** whereas the **test dataset has 53766 observations against the same 7 features**.\n",
    "\n",
    "**2.** The size of **training is 8.6mb** and **test 2.9mb**.\n",
    "\n",
    "**3.** The datset contains 4 object types, 2int types and 1 float i.e. the ratings."
   ]
  },
  {
   "cell_type": "markdown",
   "id": "9ceda00b",
   "metadata": {},
   "source": [
    "**Feature Info**\n",
    "\n",
    "1. drugName (categorical): name of drug\n",
    "2. condition (categorical): name of condition\n",
    "3. review (text): patient review\n",
    "4. rating (numerical): 10 star patient rating\n",
    "5. date (date): date of review entry\n",
    "6. usefulCount (numerical): number of users who found review useful\n",
    "\n",
    "The first feature 'Unnamed:0' is simply the id the person giving the review."
   ]
  },
  {
   "cell_type": "markdown",
   "id": "84d8b1e3",
   "metadata": {},
   "source": [
    "# 3. Data Cleaning"
   ]
  },
  {
   "cell_type": "markdown",
   "id": "6948680e",
   "metadata": {},
   "source": [
    "Since, our objective for the project is to be able to predict the ratings based on the user review, we will be getting rid of the remaining columns.\n"
   ]
  },
  {
   "cell_type": "code",
   "execution_count": 88,
   "id": "66b24d02",
   "metadata": {},
   "outputs": [],
   "source": [
    "df_train.drop(['Unnamed: 0', 'drugName','condition','date','usefulCount'], inplace = True,axis = 1)\n",
    "df_test.drop(['Unnamed: 0', 'drugName','condition','date','usefulCount'], inplace = True , axis = 1)"
   ]
  },
  {
   "cell_type": "markdown",
   "id": "8bc1a287",
   "metadata": {},
   "source": [
    "**Checking for NA values**"
   ]
  },
  {
   "cell_type": "code",
   "execution_count": 8,
   "id": "03f7f23d",
   "metadata": {},
   "outputs": [
    {
     "data": {
      "text/plain": [
       "review    0\n",
       "rating    0\n",
       "dtype: int64"
      ]
     },
     "execution_count": 8,
     "metadata": {},
     "output_type": "execute_result"
    }
   ],
   "source": [
    "df_train.isna().sum()"
   ]
  },
  {
   "cell_type": "code",
   "execution_count": 9,
   "id": "d35d8ea7",
   "metadata": {},
   "outputs": [
    {
     "data": {
      "text/plain": [
       "review    0\n",
       "rating    0\n",
       "dtype: int64"
      ]
     },
     "execution_count": 9,
     "metadata": {},
     "output_type": "execute_result"
    }
   ],
   "source": [
    "df_test.isna().sum()"
   ]
  },
  {
   "cell_type": "markdown",
   "id": "ccdc7fa9",
   "metadata": {},
   "source": [
    "The number of observations remains the same, however, after getting rid of the redundant features as per our project objective, we have only 2 columns remaining namely 'review' and 'rating'."
   ]
  },
  {
   "cell_type": "markdown",
   "id": "4afb2354",
   "metadata": {},
   "source": [
    "## Processing Text"
   ]
  },
  {
   "cell_type": "markdown",
   "id": "4445fb22",
   "metadata": {},
   "source": [
    "There are two main steps involved in the processing of text, i.e. removing unnecessary alphanumerics, puncuations, numbers etc. and then vectorizing the sentences into words for further study and modelling.\n",
    "\n",
    "We undertook the following steps in the model training:\n",
    "1. Word Tokenization\n",
    "2. Removal of Alpha numerics\n",
    "3. Removal of Punctuations\n",
    "4. Removal of Stop Words\n",
    "5. Stemming the words\n",
    "6. Lematizing the words\n",
    "7. rejoining the words to return the modified senctence/text"
   ]
  },
  {
   "cell_type": "markdown",
   "id": "3ab01ba7",
   "metadata": {},
   "source": [
    "### Text Cleaning (review column)"
   ]
  },
  {
   "cell_type": "code",
   "execution_count": 7,
   "id": "1ec1bd0f",
   "metadata": {},
   "outputs": [],
   "source": [
    "df_train['review'] = df_train['review'].astype(str)"
   ]
  },
  {
   "cell_type": "code",
   "execution_count": 8,
   "id": "a2827e1b",
   "metadata": {},
   "outputs": [],
   "source": [
    "stop = set(nltk.corpus.stopwords.words('english'))\n",
    "stop_words = stop.union({'said','mr','known','ll','ms','ve', 'you', 'your', 'yet' , 'yes',\n",
    "                             'yours',\"ha\", \"thi\", \"now\", \"onli\", \"im\", \"becaus\", \"wa\", \"will\",\n",
    "                              \"even\", \"go\", \"realli\", \"didnt\", \"abl\",\n",
    "                        'year'}) ###IMPORTANT######################################################\n",
    "\n",
    "\n",
    "def cleaning(x):\n",
    "    \n",
    "    # converting to words\n",
    "    tokens = word_tokenize(x)\n",
    "    \n",
    "    # convert to lower case\n",
    "    words = [w.lower() for w in tokens]\n",
    "    \n",
    "    # removing alphanumerics\n",
    "    words = [word for word in words if word.isalpha()]\n",
    "    \n",
    "    # removing punctuations\n",
    "    table = str.maketrans('', '', string.punctuation)\n",
    "    stripped = [w.translate(table) for w in words]    \n",
    "        \n",
    "    # removing stopwords after modification\n",
    "    words_mod = [w for w in stripped if not w in stop_words]\n",
    "    \n",
    "    # word stemming\n",
    "    stemmer = PorterStemmer()\n",
    "#     stemmed_words = \" \".join([stemmer.stem(w) for w in words_mod])\n",
    "    stemmed_words = [stemmer.stem(w) for w in words_mod]\n",
    "    \n",
    "    # word lemmatization\n",
    "    lemmatizer = WordNetLemmatizer()\n",
    "    sentence = \" \".join([lemmatizer.lemmatize(w) for w in stemmed_words]) \n",
    "    \n",
    "    sen = \" \".join(sentence.split())\n",
    "    \n",
    "#     sentence = \" \".join(words)\n",
    "    \n",
    "    return (sen)"
   ]
  },
  {
   "cell_type": "code",
   "execution_count": 9,
   "id": "dd936b17",
   "metadata": {},
   "outputs": [],
   "source": [
    "train_text = df_train.review.apply(lambda x: cleaning(x))"
   ]
  },
  {
   "cell_type": "code",
   "execution_count": 10,
   "id": "0dade926",
   "metadata": {},
   "outputs": [],
   "source": [
    "vector = TfidfVectorizer( min_df = 50, ngram_range = (1,1),  stop_words='english')\n",
    "word_vec = vector.fit_transform(train_text)"
   ]
  },
  {
   "cell_type": "code",
   "execution_count": 11,
   "id": "da5ee28d",
   "metadata": {},
   "outputs": [],
   "source": [
    "word_df = pd.DataFrame([vector.vocabulary_]).T\n",
    "word_df.columns = ['count']\n",
    "word_df.sort_values(by = 'count' , inplace = True ,ascending=False)"
   ]
  },
  {
   "cell_type": "code",
   "execution_count": 12,
   "id": "860f96c9",
   "metadata": {},
   "outputs": [
    {
     "data": {
      "text/plain": [
       "Text(0.5, 1.0, 'N-gram = 1')"
      ]
     },
     "execution_count": 12,
     "metadata": {},
     "output_type": "execute_result"
    },
    {
     "data": {
      "image/png": "[encoded data removed]",
      "text/plain": [
       "<Figure size 720x720 with 1 Axes>"
      ]
     },
     "metadata": {
      "needs_background": "light"
     },
     "output_type": "display_data"
    }
   ],
   "source": [
    "word_df.head(10).plot(kind = 'barh', figsize = (10,10))\n",
    "plt.title('N-gram = 1')"
   ]
  },
  {
   "cell_type": "code",
   "execution_count": 13,
   "id": "ecd19505",
   "metadata": {},
   "outputs": [
    {
     "data": {
      "text/plain": [
       "Text(0.5, 1.0, 'N-gram = 2')"
      ]
     },
     "execution_count": 13,
     "metadata": {},
     "output_type": "execute_result"
    },
    {
     "data": {
      "image/png": "[encoded data removed]",
      "text/plain": [
       "<Figure size 720x720 with 1 Axes>"
      ]
     },
     "metadata": {
      "needs_background": "light"
     },
     "output_type": "display_data"
    }
   ],
   "source": [
    "vector = TfidfVectorizer( min_df = 50, ngram_range = (2,2))\n",
    "word_vec = vector.fit_transform(train_text)\n",
    "\n",
    "word_df = pd.DataFrame([vector.vocabulary_]).T\n",
    "word_df.columns = ['count']\n",
    "word_df.sort_values(by = 'count' , inplace = True ,ascending=False)\n",
    "\n",
    "word_df.head(10).plot(kind = 'barh', figsize = (10,10))\n",
    "plt.title('N-gram = 2')"
   ]
  },
  {
   "cell_type": "code",
   "execution_count": 14,
   "id": "27156817",
   "metadata": {},
   "outputs": [
    {
     "data": {
      "text/plain": [
       "Text(0.5, 1.0, 'N-gram = 3')"
      ]
     },
     "execution_count": 14,
     "metadata": {},
     "output_type": "execute_result"
    },
    {
     "data": {
      "image/png": "[encoded data removed]",
      "text/plain": [
       "<Figure size 720x720 with 1 Axes>"
      ]
     },
     "metadata": {
      "needs_background": "light"
     },
     "output_type": "display_data"
    }
   ],
   "source": [
    "vector = TfidfVectorizer( min_df = 50, ngram_range = (3,3))\n",
    "word_vec = vector.fit_transform(train_text)\n",
    "\n",
    "word_df = pd.DataFrame([vector.vocabulary_]).T\n",
    "word_df.columns = ['count']\n",
    "word_df.sort_values(by = 'count' , inplace = True ,ascending=False)\n",
    "\n",
    "word_df.head(10).plot(kind = 'barh', figsize = (10,10))\n",
    "plt.title('N-gram = 3')"
   ]
  },
  {
   "cell_type": "markdown",
   "id": "4b581a08",
   "metadata": {},
   "source": [
    "We can see from the graphs above that the name of the medicine is most occuring in the data when the min occurence is set a 50 whereas the time and effect are mostly displayed when we are refering to the ngrams set to 3."
   ]
  },
  {
   "cell_type": "markdown",
   "id": "a2a9aa49",
   "metadata": {},
   "source": [
    "# 4. EDA"
   ]
  },
  {
   "cell_type": "code",
   "execution_count": 15,
   "id": "e46c35bb",
   "metadata": {},
   "outputs": [
    {
     "data": {
      "text/html": [
       "<div>\n",
       "<style scoped>\n",
       "    .dataframe tbody tr th:only-of-type {\n",
       "        vertical-align: middle;\n",
       "    }\n",
       "\n",
       "    .dataframe tbody tr th {\n",
       "        vertical-align: top;\n",
       "    }\n",
       "\n",
       "    .dataframe thead th {\n",
       "        text-align: right;\n",
       "    }\n",
       "</style>\n",
       "<table border=\"1\" class=\"dataframe\">\n",
       "  <thead>\n",
       "    <tr style=\"text-align: right;\">\n",
       "      <th></th>\n",
       "      <th>rating</th>\n",
       "    </tr>\n",
       "  </thead>\n",
       "  <tbody>\n",
       "    <tr>\n",
       "      <th>count</th>\n",
       "      <td>161297.000000</td>\n",
       "    </tr>\n",
       "    <tr>\n",
       "      <th>mean</th>\n",
       "      <td>6.994377</td>\n",
       "    </tr>\n",
       "    <tr>\n",
       "      <th>std</th>\n",
       "      <td>3.272329</td>\n",
       "    </tr>\n",
       "    <tr>\n",
       "      <th>min</th>\n",
       "      <td>1.000000</td>\n",
       "    </tr>\n",
       "    <tr>\n",
       "      <th>25%</th>\n",
       "      <td>5.000000</td>\n",
       "    </tr>\n",
       "    <tr>\n",
       "      <th>50%</th>\n",
       "      <td>8.000000</td>\n",
       "    </tr>\n",
       "    <tr>\n",
       "      <th>75%</th>\n",
       "      <td>10.000000</td>\n",
       "    </tr>\n",
       "    <tr>\n",
       "      <th>max</th>\n",
       "      <td>10.000000</td>\n",
       "    </tr>\n",
       "  </tbody>\n",
       "</table>\n",
       "</div>"
      ],
      "text/plain": [
       "              rating\n",
       "count  161297.000000\n",
       "mean        6.994377\n",
       "std         3.272329\n",
       "min         1.000000\n",
       "25%         5.000000\n",
       "50%         8.000000\n",
       "75%        10.000000\n",
       "max        10.000000"
      ]
     },
     "execution_count": 15,
     "metadata": {},
     "output_type": "execute_result"
    }
   ],
   "source": [
    "df_train.describe()"
   ]
  },
  {
   "cell_type": "code",
   "execution_count": 16,
   "id": "5e570a39",
   "metadata": {},
   "outputs": [
    {
     "data": {
      "text/plain": [
       "<AxesSubplot:ylabel='rating'>"
      ]
     },
     "execution_count": 16,
     "metadata": {},
     "output_type": "execute_result"
    },
    {
     "data": {
      "image/png": "[encoded data removed]",
      "text/plain": [
       "<Figure size 720x720 with 1 Axes>"
      ]
     },
     "metadata": {},
     "output_type": "display_data"
    }
   ],
   "source": [
    "df_train.rating.value_counts().plot.pie(figsize = (10,10))"
   ]
  },
  {
   "cell_type": "code",
   "execution_count": 17,
   "id": "d49e17a4",
   "metadata": {},
   "outputs": [],
   "source": [
    "df_1 = df_train[df_train['rating'] == 1]\n",
    "df_2 = df_train[df_train['rating'] == 2]\n",
    "df_3 = df_train[df_train['rating'] == 3]\n",
    "df_4 = df_train[df_train['rating'] == 4]\n",
    "df_5 = df_train[df_train['rating'] == 5]\n",
    "df_6 = df_train[df_train['rating'] == 6]\n",
    "df_7 = df_train[df_train['rating'] == 7]\n",
    "df_8 = df_train[df_train['rating'] == 8]\n",
    "df_9 = df_train[df_train['rating'] == 9]\n",
    "df_10 = df_train[df_train['rating'] == 10]"
   ]
  },
  {
   "cell_type": "code",
   "execution_count": 18,
   "id": "a4b9facf",
   "metadata": {
    "scrolled": false
   },
   "outputs": [
    {
     "data": {
      "image/png": "[encoded data removed]",
      "text/plain": [
       "<Figure size 720x720 with 1 Axes>"
      ]
     },
     "metadata": {
      "needs_background": "light"
     },
     "output_type": "display_data"
    },
    {
     "data": {
      "image/png": "[encoded data removed]",
      "text/plain": [
       "<Figure size 720x720 with 1 Axes>"
      ]
     },
     "metadata": {
      "needs_background": "light"
     },
     "output_type": "display_data"
    },
    {
     "data": {
      "image/png": "[encoded data removed]",
      "text/plain": [
       "<Figure size 720x720 with 1 Axes>"
      ]
     },
     "metadata": {
      "needs_background": "light"
     },
     "output_type": "display_data"
    },
    {
     "data": {
      "image/png": "[encoded data removed]",
      "text/plain": [
       "<Figure size 720x720 with 1 Axes>"
      ]
     },
     "metadata": {
      "needs_background": "light"
     },
     "output_type": "display_data"
    },
    {
     "data": {
      "image/png": "[encoded data removed]",
      "text/plain": [
       "<Figure size 720x720 with 1 Axes>"
      ]
     },
     "metadata": {
      "needs_background": "light"
     },
     "output_type": "display_data"
    },
    {
     "data": {
      "image/png": "[encoded data removed]",
      "text/plain": [
       "<Figure size 720x720 with 1 Axes>"
      ]
     },
     "metadata": {
      "needs_background": "light"
     },
     "output_type": "display_data"
    },
    {
     "data": {
      "image/png": "[encoded data removed]",
      "text/plain": [
       "<Figure size 720x720 with 1 Axes>"
      ]
     },
     "metadata": {
      "needs_background": "light"
     },
     "output_type": "display_data"
    },
    {
     "data": {
      "image/png": "[encoded data removed]",
      "text/plain": [
       "<Figure size 720x720 with 1 Axes>"
      ]
     },
     "metadata": {
      "needs_background": "light"
     },
     "output_type": "display_data"
    },
    {
     "data": {
      "image/png": "[encoded data removed]",
      "text/plain": [
       "<Figure size 720x720 with 1 Axes>"
      ]
     },
     "metadata": {
      "needs_background": "light"
     },
     "output_type": "display_data"
    },
    {
     "data": {
      "image/png": "[encoded data removed]",
      "text/plain": [
       "<Figure size 720x720 with 1 Axes>"
      ]
     },
     "metadata": {
      "needs_background": "light"
     },
     "output_type": "display_data"
    }
   ],
   "source": [
    "data= [df_1, df_2,df_3,df_4,df_5,df_6,df_7,df_8,df_9,df_10]\n",
    "vector = TfidfVectorizer(min_df = 10 , ngram_range = (2,2))\n",
    "\n",
    "for i in data:\n",
    "    clean_data = i.review.apply(lambda x: cleaning(x))\n",
    "    word_vec = vector.fit_transform(clean_data)\n",
    "\n",
    "    word_df = pd.DataFrame([vector.vocabulary_]).T\n",
    "    word_df.columns = ['count']\n",
    "    word_df.sort_values(by = 'count' , inplace = True ,ascending=False)\n",
    "\n",
    "    word_df.head(10).plot(kind = 'barh', figsize = (10,10))\n",
    "#     plt.title(i)\n",
    "    plt.show()"
   ]
  },
  {
   "cell_type": "markdown",
   "id": "db2b540e",
   "metadata": {},
   "source": [
    "Here, we can take two things, firstly the ratings are not divided equally and a vast majority is skewed towards the higher side i.e. rating '9' and '10'. Secondly, the words among the various ratings seem to be quite similar. Due to this, our model accuracy will be compromised. Hence, it would be prudent to modify the ratings. **We will set the ratings into 3 categories, if rating is less than '5', we'll set it to '0', if it is within 5 to 8, we'll set it to '1' and higher than '8' to 2.**\n",
    "\n",
    "'0' implies 'Bad'.\n",
    "\n",
    "'1' implies 'average'.\n",
    "\n",
    "'2' implies 'good'."
   ]
  },
  {
   "cell_type": "code",
   "execution_count": 19,
   "id": "5a7ae226",
   "metadata": {},
   "outputs": [],
   "source": [
    "mod_rating = []\n",
    "for i in df_train.rating:\n",
    "    if i < 5:\n",
    "        mod_rating.append(0)\n",
    "        \n",
    "    elif i > 8:\n",
    "        mod_rating.append(2)\n",
    "    \n",
    "    elif i >= 5 and i <=8:\n",
    "        mod_rating.append(1)\n",
    "        \n",
    "df_train['mod_rating'] = mod_rating"
   ]
  },
  {
   "cell_type": "code",
   "execution_count": 20,
   "id": "c5be0aa2",
   "metadata": {},
   "outputs": [
    {
     "data": {
      "text/html": [
       "<div>\n",
       "<style scoped>\n",
       "    .dataframe tbody tr th:only-of-type {\n",
       "        vertical-align: middle;\n",
       "    }\n",
       "\n",
       "    .dataframe tbody tr th {\n",
       "        vertical-align: top;\n",
       "    }\n",
       "\n",
       "    .dataframe thead th {\n",
       "        text-align: right;\n",
       "    }\n",
       "</style>\n",
       "<table border=\"1\" class=\"dataframe\">\n",
       "  <thead>\n",
       "    <tr style=\"text-align: right;\">\n",
       "      <th></th>\n",
       "      <th>review</th>\n",
       "      <th>rating</th>\n",
       "      <th>mod_rating</th>\n",
       "    </tr>\n",
       "  </thead>\n",
       "  <tbody>\n",
       "    <tr>\n",
       "      <th>0</th>\n",
       "      <td>\"It has no side effect, I take it in combinati...</td>\n",
       "      <td>9.0</td>\n",
       "      <td>2</td>\n",
       "    </tr>\n",
       "    <tr>\n",
       "      <th>1</th>\n",
       "      <td>\"My son is halfway through his fourth week of ...</td>\n",
       "      <td>8.0</td>\n",
       "      <td>1</td>\n",
       "    </tr>\n",
       "    <tr>\n",
       "      <th>2</th>\n",
       "      <td>\"I used to take another oral contraceptive, wh...</td>\n",
       "      <td>5.0</td>\n",
       "      <td>1</td>\n",
       "    </tr>\n",
       "    <tr>\n",
       "      <th>3</th>\n",
       "      <td>\"This is my first time using any form of birth...</td>\n",
       "      <td>8.0</td>\n",
       "      <td>1</td>\n",
       "    </tr>\n",
       "    <tr>\n",
       "      <th>4</th>\n",
       "      <td>\"Suboxone has completely turned my life around...</td>\n",
       "      <td>9.0</td>\n",
       "      <td>2</td>\n",
       "    </tr>\n",
       "  </tbody>\n",
       "</table>\n",
       "</div>"
      ],
      "text/plain": [
       "                                              review  rating  mod_rating\n",
       "0  \"It has no side effect, I take it in combinati...     9.0           2\n",
       "1  \"My son is halfway through his fourth week of ...     8.0           1\n",
       "2  \"I used to take another oral contraceptive, wh...     5.0           1\n",
       "3  \"This is my first time using any form of birth...     8.0           1\n",
       "4  \"Suboxone has completely turned my life around...     9.0           2"
      ]
     },
     "execution_count": 20,
     "metadata": {},
     "output_type": "execute_result"
    }
   ],
   "source": [
    "df_train.head()"
   ]
  },
  {
   "cell_type": "markdown",
   "id": "a7a73bcd",
   "metadata": {},
   "source": [
    "## EDA Summary / Discussion"
   ]
  },
  {
   "cell_type": "markdown",
   "id": "8a52452e",
   "metadata": {},
   "source": [
    "In the initial phase, we assed the division of the ratings across the various markings. We found that ratings are not equally distributed and this would in turn would comprosmise the accuracy of any model. Moreover, we also found that the words were quite similar to each other in various brackets of the ratings. Hence, in order to counter skewness and redundancy of words in the various rating brackets, we grouped them together into 3 categories. From, this we would have ample amount of data on each rating to train an acceptable model."
   ]
  },
  {
   "cell_type": "markdown",
   "id": "49fb6c9d",
   "metadata": {},
   "source": [
    "## Dividing into Train and Text Data"
   ]
  },
  {
   "cell_type": "code",
   "execution_count": 21,
   "id": "4ac4e5d1",
   "metadata": {},
   "outputs": [],
   "source": [
    "x = df_train.review\n",
    "y = df_train.mod_rating\n",
    "\n",
    "X = x.apply(lambda a: cleaning(a))\n",
    "\n"
   ]
  },
  {
   "cell_type": "code",
   "execution_count": 22,
   "id": "41496fd1",
   "metadata": {},
   "outputs": [],
   "source": [
    "X_train , X_test, y_train, y_test = train_test_split(X , y, test_size =0.2, random_state = 10)"
   ]
  },
  {
   "cell_type": "markdown",
   "id": "964b8527",
   "metadata": {},
   "source": [
    "# 4. Initial Model Design"
   ]
  },
  {
   "cell_type": "markdown",
   "id": "3fea3e38",
   "metadata": {},
   "source": [
    "We will design the following models in sequence:\n",
    "\n",
    "1. Non-Zero Matrix Factorization (Unsupervised Learning)\n",
    "2. Random Forest (Supervised Learning)\n",
    "3. Naive Bayes   (Supervised Learning)"
   ]
  },
  {
   "cell_type": "markdown",
   "id": "fabb1be4",
   "metadata": {},
   "source": [
    "## (1) Non-Zero Matrix factorization "
   ]
  },
  {
   "cell_type": "markdown",
   "id": "1d85fae2",
   "metadata": {},
   "source": [
    "**For the NMF, we will use the entire data for design initially. Additionally, we will also combine the test data to it to increase its accuracy since it is not effected by overfitting.**"
   ]
  },
  {
   "cell_type": "code",
   "execution_count": 46,
   "id": "9565eccd",
   "metadata": {},
   "outputs": [
    {
     "name": "stderr",
     "output_type": "stream",
     "text": [
      "D:\\Anaconda_Launcher\\lib\\site-packages\\sklearn\\decomposition\\_nmf.py:312: FutureWarning: The 'init' value, when 'init=None' and n_components is less than n_samples and n_features, will be changed from 'nndsvd' to 'nndsvda' in 1.1 (renaming of 0.26).\n",
      "  warnings.warn((\"The 'init' value, when 'init=None' and \"\n"
     ]
    },
    {
     "data": {
      "text/plain": [
       "0.28423343273588475"
      ]
     },
     "execution_count": 46,
     "metadata": {},
     "output_type": "execute_result"
    }
   ],
   "source": [
    "clf = NMF(n_components=3, random_state=2)\n",
    "\n",
    "vector = TfidfVectorizer( ngram_range = (1,1),  stop_words='english')\n",
    "word_vec = vector.fit_transform(df_train.review)\n",
    "\n",
    "clf.fit(word_vec)\n",
    "w = clf.transform(word_vec)\n",
    "# h = clf.components_\n",
    "\n",
    "tp=pd.DataFrame({'id':pd.DataFrame(w).idxmax(axis=1)})\n",
    "## Number of categorizations\n",
    "\n",
    "tp.value_counts()\n",
    "\n",
    "accuracy_score(tp['id'].to_numpy() , df_train['mod_rating'])"
   ]
  },
  {
   "cell_type": "markdown",
   "id": "370c7bc1",
   "metadata": {},
   "source": [
    "## (2) Random Forest"
   ]
  },
  {
   "cell_type": "code",
   "execution_count": 27,
   "id": "48bc65f8",
   "metadata": {},
   "outputs": [
    {
     "data": {
      "text/plain": [
       "0.7960012399256045"
      ]
     },
     "execution_count": 27,
     "metadata": {},
     "output_type": "execute_result"
    }
   ],
   "source": [
    "model_rf = make_pipeline(TfidfVectorizer(stop_words='english'), RandomForestClassifier())\n",
    "\n",
    "model_rf.fit(X_train, y_train)\n",
    "\n",
    "labels_train = model_rf.predict(X_test)\n",
    "accuracy_score(y_test , labels_train)"
   ]
  },
  {
   "cell_type": "markdown",
   "id": "65f63f0b",
   "metadata": {},
   "source": [
    "## (3) Naive Bayes"
   ]
  },
  {
   "cell_type": "code",
   "execution_count": 28,
   "id": "179d86f3",
   "metadata": {},
   "outputs": [
    {
     "data": {
      "text/plain": [
       "0.596342219466832"
      ]
     },
     "execution_count": 28,
     "metadata": {},
     "output_type": "execute_result"
    }
   ],
   "source": [
    "\n",
    "model_nb = make_pipeline(TfidfVectorizer(stop_words='english'), MultinomialNB())\n",
    "\n",
    "model_nb.fit(X_train, y_train)\n",
    "\n",
    "labels_train = model_nb.predict(X_test)\n",
    "accuracy_score(y_test , labels_train)"
   ]
  },
  {
   "cell_type": "markdown",
   "id": "abac324e",
   "metadata": {},
   "source": [
    "In the above modelling, the models have been trained on the test data and their accuracy is based on the test data. The training and test data was achieved after dividing the original training dataset.\n",
    "\n",
    "The 3 models seem to be performing quite differently with the **NMF giving an accuracy of only 28%, Naive Bayes at 60% and Random Forest at 80%**."
   ]
  },
  {
   "cell_type": "markdown",
   "id": "6a755acb",
   "metadata": {},
   "source": [
    "## Accessing Models on the Actual Test Data"
   ]
  },
  {
   "cell_type": "code",
   "execution_count": 29,
   "id": "071451d0",
   "metadata": {},
   "outputs": [],
   "source": [
    "df_test['review'] = df_test['review'].astype(str)\n",
    "test_clean = df_test.review.apply(lambda a: cleaning(a))\n",
    "\n",
    "mod_test_rating = []\n",
    "for i in df_test.rating:\n",
    "    if i < 5:\n",
    "        mod_test_rating.append(0)\n",
    "        \n",
    "    elif i > 8:\n",
    "        mod_test_rating.append(2)\n",
    "    \n",
    "    elif i >= 5 and i <=8:\n",
    "        mod_test_rating.append(1)\n",
    "        \n",
    "df_test['mod_rating'] = mod_test_rating"
   ]
  },
  {
   "cell_type": "code",
   "execution_count": 30,
   "id": "2a1631e8",
   "metadata": {},
   "outputs": [
    {
     "data": {
      "text/plain": [
       "[0.28136740691143103, 0.7926198712941264, 0.5967897928058624]"
      ]
     },
     "execution_count": 30,
     "metadata": {},
     "output_type": "execute_result"
    }
   ],
   "source": [
    "acc = []\n",
    "# NMF\n",
    "word_vec_test = vector.transform(df_test.review)\n",
    "w_t = clf.transform(word_vec_test)\n",
    "tpt=pd.DataFrame({'id':pd.DataFrame(w_t).idxmax(axis=1)})\n",
    "acc.append(accuracy_score(tpt['id'].to_numpy() , df_test['mod_rating']))\n",
    "\n",
    "# RF\n",
    "res_rf = model_rf.predict(test_clean)\n",
    "acc.append(accuracy_score(df_test.mod_rating,res_rf))\n",
    "\n",
    "# NB\n",
    "res_nb = model_nb.predict(test_clean)\n",
    "acc.append(accuracy_score(df_test.mod_rating , res_nb))\n",
    "\n",
    "acc"
   ]
  },
  {
   "cell_type": "markdown",
   "id": "33c31d11",
   "metadata": {},
   "source": []
  },
  {
   "cell_type": "markdown",
   "id": "56be5a0d",
   "metadata": {},
   "source": [
    "# 5. Revised Model"
   ]
  },
  {
   "cell_type": "markdown",
   "id": "8f950044",
   "metadata": {},
   "source": [
    "## Optimizing NMF"
   ]
  },
  {
   "cell_type": "code",
   "execution_count": 61,
   "id": "fb3678bf",
   "metadata": {},
   "outputs": [],
   "source": [
    "train_acc = []\n",
    "for i in range(60):\n",
    "    vector = TfidfVectorizer(stop_words = 'english',min_df = i)\n",
    "    word_vec = vector.fit_transform(df_train.review)\n",
    "    clf = NMF(init = 'nndsvda',n_components=3, random_state=5)\n",
    "    clf.fit(word_vec)\n",
    "    w = clf.transform(word_vec)\n",
    "#     h = clf.components_\n",
    "    tp=pd.DataFrame({'id':pd.DataFrame(w).idxmax(axis=1)})\n",
    "    train_acc.append(accuracy_score(tp['id'].to_numpy() , df_train.mod_rating))\n",
    "    "
   ]
  },
  {
   "cell_type": "code",
   "execution_count": 62,
   "id": "939be70d",
   "metadata": {},
   "outputs": [
    {
     "data": {
      "text/plain": [
       "Text(0, 0.5, 'Accuracy')"
      ]
     },
     "execution_count": 62,
     "metadata": {},
     "output_type": "execute_result"
    },
    {
     "data": {
      "image/png": "[encoded data removed]",
      "text/plain": [
       "<Figure size 640x480 with 1 Axes>"
      ]
     },
     "metadata": {
      "needs_background": "light"
     },
     "output_type": "display_data"
    }
   ],
   "source": [
    "figure(figsize=(8, 6), dpi=80)\n",
    "plt.plot(train_acc)\n",
    "plt.xlabel(\"Min Word Occurence\")\n",
    "plt.ylabel(\"Accuracy\")"
   ]
  },
  {
   "cell_type": "code",
   "execution_count": 63,
   "id": "d27af99a",
   "metadata": {},
   "outputs": [
    {
     "data": {
      "text/plain": [
       "55"
      ]
     },
     "execution_count": 63,
     "metadata": {},
     "output_type": "execute_result"
    }
   ],
   "source": [
    "train_acc.index(max(train_acc))"
   ]
  },
  {
   "cell_type": "code",
   "execution_count": 73,
   "id": "aef2ab3b",
   "metadata": {},
   "outputs": [],
   "source": [
    "vector = TfidfVectorizer( min_df=9, stop_words='english')\n",
    "word_vec = vector.fit_transform(train_text)"
   ]
  },
  {
   "cell_type": "code",
   "execution_count": 74,
   "id": "82431503",
   "metadata": {},
   "outputs": [
    {
     "name": "stderr",
     "output_type": "stream",
     "text": [
      "D:\\Anaconda_Launcher\\lib\\site-packages\\sklearn\\decomposition\\_nmf.py:226: UserWarning: The multiplicative update ('mu') solver cannot update zeros present in the initialization, and so leads to poorer results when used jointly with init='nndsvd'. You may try init='nndsvda' or init='nndsvdar' instead.\n",
      "  warnings.warn(\"The multiplicative update ('mu') solver cannot update \"\n"
     ]
    }
   ],
   "source": [
    "initial = [\"random\", \"nndsvd\", \"nndsvda\", \"nndsvdar\"]\n",
    "train_score = [[],[],[],[]]\n",
    "test_score = [[],[],[],[]]\n",
    "beta = ['frobenius', 'kullback-leibler']\n",
    "for i in range(len(initial)):\n",
    "    for j in beta:\n",
    "        if (j == 'kullback-leibler'):\n",
    "            clf = NMF(init = initial[i] ,n_components=3, random_state=5 , beta_loss = j, solver = 'mu')\n",
    "        else:\n",
    "            clf = NMF(init = initial[i] ,n_components=3, random_state=5 , beta_loss = j)\n",
    "        clf.fit(word_vec)\n",
    "        w = clf.transform(word_vec)\n",
    "        h = clf.components_\n",
    "\n",
    "        tp=pd.DataFrame({'id':pd.DataFrame(w).idxmax(axis=1)})\n",
    "\n",
    "        train_score[i].append(accuracy_score(tp['id'].to_numpy() , df_train['mod_rating']))\n",
    "\n",
    "       "
   ]
  },
  {
   "cell_type": "code",
   "execution_count": 75,
   "id": "048a6d2a",
   "metadata": {},
   "outputs": [],
   "source": [
    "df = pd.DataFrame(columns = [\"Frobenius\" , \"Kullback_leibler\" ],\n",
    "             index = ['random' , 'nndsvd' , 'nndsvda' , 'nndsvdar'])\n",
    "df = df.T\n",
    "df['random'] = [train_score[0][0], train_score[0][1]]\n",
    "df['nndsvd'] = [train_score[1][0], train_score[1][1]]\n",
    "df['nndsvda'] = [train_score[2][0], train_score[2][1]]\n",
    "df['nndsvdar'] = [train_score[3][0], train_score[3][1]]\n"
   ]
  },
  {
   "cell_type": "code",
   "execution_count": 76,
   "id": "b5dae7ad",
   "metadata": {},
   "outputs": [
    {
     "data": {
      "text/html": [
       "<div>\n",
       "<style scoped>\n",
       "    .dataframe tbody tr th:only-of-type {\n",
       "        vertical-align: middle;\n",
       "    }\n",
       "\n",
       "    .dataframe tbody tr th {\n",
       "        vertical-align: top;\n",
       "    }\n",
       "\n",
       "    .dataframe thead th {\n",
       "        text-align: right;\n",
       "    }\n",
       "</style>\n",
       "<table border=\"1\" class=\"dataframe\">\n",
       "  <thead>\n",
       "    <tr style=\"text-align: right;\">\n",
       "      <th></th>\n",
       "      <th>random</th>\n",
       "      <th>nndsvd</th>\n",
       "      <th>nndsvda</th>\n",
       "      <th>nndsvdar</th>\n",
       "    </tr>\n",
       "  </thead>\n",
       "  <tbody>\n",
       "    <tr>\n",
       "      <th>Frobenius</th>\n",
       "      <td>0.297805</td>\n",
       "      <td>0.267941</td>\n",
       "      <td>0.268071</td>\n",
       "      <td>0.267928</td>\n",
       "    </tr>\n",
       "    <tr>\n",
       "      <th>Kullback_leibler</th>\n",
       "      <td>0.345146</td>\n",
       "      <td>0.276521</td>\n",
       "      <td>0.303347</td>\n",
       "      <td>0.300328</td>\n",
       "    </tr>\n",
       "  </tbody>\n",
       "</table>\n",
       "</div>"
      ],
      "text/plain": [
       "                    random    nndsvd   nndsvda  nndsvdar\n",
       "Frobenius         0.297805  0.267941  0.268071  0.267928\n",
       "Kullback_leibler  0.345146  0.276521  0.303347  0.300328"
      ]
     },
     "execution_count": 76,
     "metadata": {},
     "output_type": "execute_result"
    }
   ],
   "source": [
    "df"
   ]
  },
  {
   "cell_type": "markdown",
   "id": "9437b809",
   "metadata": {},
   "source": [
    "**After identifying the optimal parameters for the NMF, let us now join both the training and test set to increase the library of the NMF for better accuracy.**"
   ]
  },
  {
   "cell_type": "code",
   "execution_count": 77,
   "id": "3202f1b9",
   "metadata": {},
   "outputs": [],
   "source": [
    "joint_df = pd.concat([df_train , df_test])\n",
    "joint_df['review'] = joint_df['review'].astype(str)\n"
   ]
  },
  {
   "cell_type": "code",
   "execution_count": 82,
   "id": "20b16c8b",
   "metadata": {},
   "outputs": [
    {
     "data": {
      "text/plain": [
       "0.40917312601423766"
      ]
     },
     "execution_count": 82,
     "metadata": {},
     "output_type": "execute_result"
    }
   ],
   "source": [
    "vector = TfidfVectorizer( min_df = 55 , stop_words='english')\n",
    "joint_word_vec = vector.fit_transform(joint_df.review)\n",
    "\n",
    "clf = NMF(init = 'random' , n_components=3, random_state=2,solver = 'mu' , beta_loss = 'kullback-leibler')\n",
    "\n",
    "clf.fit(joint_word_vec)\n",
    "w = clf.transform(joint_word_vec)\n",
    "h = clf.components_\n",
    "\n",
    "tp=pd.DataFrame({'id':pd.DataFrame(w).idxmax(axis=1)})\n",
    "## Number of categorizations\n",
    "\n",
    "tp.value_counts()\n",
    "\n",
    "accuracy_score(tp['id'].to_numpy() , joint_df['mod_rating'])"
   ]
  },
  {
   "cell_type": "markdown",
   "id": "49b9faf9",
   "metadata": {},
   "source": [
    "## Modelling Summary / Discussion"
   ]
  },
  {
   "cell_type": "markdown",
   "id": "0b38be4c",
   "metadata": {},
   "source": [
    "We started off by dividing the train dataset into further train and test sets with the division set at 0.2 for test set. \n",
    "\n",
    "**NMF**:The first model that we trained was the Non-Zero Matrix Factorization of the complete train data. The reason we took the entire data was it is not effected by any kind of overfitting since the data will not be based on any initial set outcome. After training the data and testing it on the train data we got an **accuracy of a mere 28%**. We then tested it on the actual test data provided as well which also gave an accuracy of 28%. This tends us to believe that the nmf is not really a good choice here with the lack of accuracy it is showing in both the datasets. \n",
    "\n",
    "We later tried to optimize the NMF by optimizing the minimum acceptable word occurence whcih came out to be at '55'.  We also went over the various init types and loss function to identify the best parameters. From these, we found that the best **init was set at 'random'** with the **loss function at 'kullback leibler'**. **Once we set these new parameters and joined both the train the test set for enhanced accuracy, we got an accuracy of 41%** which is mark difference from our initial model but still is not accuracte enough.\n",
    "\n",
    "\n",
    "**Random Forest**: The Random forest model seemed to give the best result with an **accuracy of 80% on the train set** and **79% on the test set**. These accuracies are quite near which indicates that the model is substantially good fit without any overfitting taking place.\n",
    "\n",
    "**Naive bayes:** The naive Bayes model seems to fall in between the Random Forest and NF in terms of performance with a **constant accuracy of 60% on both the train and test set**.\n"
   ]
  },
  {
   "cell_type": "markdown",
   "id": "a3d6f77f",
   "metadata": {},
   "source": [
    "# Results and Analysis"
   ]
  },
  {
   "cell_type": "code",
   "execution_count": 84,
   "id": "4dc5682b",
   "metadata": {},
   "outputs": [],
   "source": [
    "df_comp = pd.DataFrame(columns = [\"Training Set\" , \"test Set\" ],\n",
    "             index = ['Random Forest' , 'Naive Bayes' , 'NMF'])\n",
    "df_comp = df_comp.T\n",
    "df_comp['Random Forest'] = [80 , 79]\n",
    "df_comp['Naive Bayes'] = [59.6 , 59.6]\n",
    "df_comp['NMF'] = [28 , 41]"
   ]
  },
  {
   "cell_type": "code",
   "execution_count": 86,
   "id": "10b08100",
   "metadata": {},
   "outputs": [
    {
     "data": {
      "text/plain": [
       "<AxesSubplot:>"
      ]
     },
     "execution_count": 86,
     "metadata": {},
     "output_type": "execute_result"
    },
    {
     "data": {
      "image/png": "[encoded data removed]",
      "text/plain": [
       "<Figure size 1080x720 with 1 Axes>"
      ]
     },
     "metadata": {
      "needs_background": "light"
     },
     "output_type": "display_data"
    }
   ],
   "source": [
    "df_comp.plot(kind = 'bar', rot=5, fontsize=10, figsize=(15,10))"
   ]
  },
  {
   "cell_type": "markdown",
   "id": "c17f85bc",
   "metadata": {},
   "source": [
    "The final selected model is Random Forest which seems to be performing the best in both the training data and the test data. The accuracy for each data is as follows:\n",
    "\n",
    "**Train Data : 80 %**\n",
    "\n",
    "**Test Data : 79%**"
   ]
  },
  {
   "cell_type": "markdown",
   "id": "a983b7c0",
   "metadata": {},
   "source": [
    "Lets try to optimize the Random Forest further,"
   ]
  },
  {
   "cell_type": "code",
   "execution_count": 89,
   "id": "267072c3",
   "metadata": {},
   "outputs": [],
   "source": [
    "max_feat = [ 'auto', 'sqrt' , 'log2' ]\n",
    "\n",
    "rf_scores = []\n",
    "\n",
    "for i in max_feat:\n",
    "    model = make_pipeline(TfidfVectorizer(stop_words='english'), RandomForestClassifier(max_features = i))\n",
    "\n",
    "    model.fit(X_train , y_train)\n",
    "    \n",
    "    pred = model.predict(X_test)\n",
    "    \n",
    "    rf_scores.append(accuracy_score(y_test , pred))"
   ]
  },
  {
   "cell_type": "code",
   "execution_count": 90,
   "id": "88da0804",
   "metadata": {},
   "outputs": [
    {
     "data": {
      "text/plain": [
       "[0.7953812771233726, 0.7964352138871668, 0.7830130192188469]"
      ]
     },
     "execution_count": 90,
     "metadata": {},
     "output_type": "execute_result"
    }
   ],
   "source": [
    "rf_scores"
   ]
  },
  {
   "cell_type": "markdown",
   "id": "37c1ca4c",
   "metadata": {},
   "source": [
    "The default parameter setting of the Random Forest seems to be giving the best result and thus does not require any modification interms of the features. There is one thing to note however in the above graph that NMF showed quite an improvement when the parameters were fine tuned. This if in conjunction with further improvement in the text processing can probably be improved to produce much better results."
   ]
  },
  {
   "cell_type": "markdown",
   "id": "47075903",
   "metadata": {},
   "source": [
    "# Conclusion"
   ]
  },
  {
   "cell_type": "markdown",
   "id": "b982241d",
   "metadata": {},
   "source": [
    "In this project, multiple models were used to train the data both supervised and unsupervised learning methods. Both supervised learning models seemed to do better than the unsupervised learning method. However, it is important to note that the Matrix Factorization took a lot less time in model training and prediction as compared to the supervised learning method. The most important takeaway from this project was the need to properly clean the text. Many attempts were used to correctly identify the noise from the data to improve accuracy as well as time complexity. However, it is felt that the data still has a lot of room for improvement since many digits remained integrated with words which increased the time complexity and degraded the model overall accuracy."
   ]
  }
 ],
 "metadata": {
  "kernelspec": {
   "display_name": "Python 3",
   "language": "python",
   "name": "python3"
  },
  "language_info": {
   "codemirror_mode": {
    "name": "ipython",
    "version": 3
   },
   "file_extension": ".py",
   "mimetype": "text/x-python",
   "name": "python",
   "nbconvert_exporter": "python",
   "pygments_lexer": "ipython3",
   "version": "3.8.8"
  }
 },
 "nbformat": 4,
 "nbformat_minor": 5
}
